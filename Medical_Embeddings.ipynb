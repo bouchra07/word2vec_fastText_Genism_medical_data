{
 "cells": [
  {
   "cell_type": "code",
   "execution_count": 8,
   "metadata": {
    "collapsed": true
   },
   "outputs": [
    {
     "name": "stderr",
     "output_type": "stream",
     "text": [
      "[nltk_data] Downloading package stopwords to\n",
      "[nltk_data]     C:\\Users\\Bouch\\AppData\\Roaming\\nltk_data...\n",
      "[nltk_data]   Unzipping corpora\\stopwords.zip.\n",
      "[nltk_data] Downloading package wordnet to\n",
      "[nltk_data]     C:\\Users\\Bouch\\AppData\\Roaming\\nltk_data...\n",
      "[nltk_data]   Unzipping corpora\\wordnet.zip.\n",
      "[nltk_data] Downloading package punkt to\n",
      "[nltk_data]     C:\\Users\\Bouch\\AppData\\Roaming\\nltk_data...\n",
      "[nltk_data]   Unzipping tokenizers\\punkt.zip.\n"
     ]
    },
    {
     "data": {
      "text/plain": "True"
     },
     "execution_count": 8,
     "metadata": {},
     "output_type": "execute_result"
    }
   ],
   "source": [
    "import pandas as pd\n",
    "import re\n",
    "import string\n",
    "import nltk\n",
    "from nltk.tokenize import word_tokenize\n",
    "from nltk.corpus import stopwords\n",
    "from nltk.stem import WordNetLemmatizer\n",
    "\n",
    "nltk.download('stopwords')\n",
    "nltk.download('wordnet')\n",
    "nltk.download('punkt')\n",
    "nltk.download('omw-1.4')"
   ]
  },
  {
   "cell_type": "code",
   "execution_count": 3,
   "outputs": [],
   "source": [
    "df=pd.read_csv('./data/Dimension-covid.csv')"
   ],
   "metadata": {
    "collapsed": false,
    "pycharm": {
     "name": "#%%\n"
    }
   }
  },
  {
   "cell_type": "code",
   "execution_count": 4,
   "outputs": [
    {
     "data": {
      "text/plain": "(10666, 21)"
     },
     "execution_count": 4,
     "metadata": {},
     "output_type": "execute_result"
    }
   ],
   "source": [
    "df.shape"
   ],
   "metadata": {
    "collapsed": false,
    "pycharm": {
     "name": "#%%\n"
    }
   }
  },
  {
   "cell_type": "code",
   "execution_count": 10,
   "outputs": [
    {
     "data": {
      "text/plain": "   Date added     Trial ID                                              Title  \\\n0  2021-06-04  NCT04912934  The Relationship Between Coronavirus Anxiety L...   \n1  2021-06-04  NCT04912921  Effect of Palmitoylethanolamide on Proinflamma...   \n2  2021-06-04  NCT04912895  Detection of SARS-CoV-2 RNA and Biomarkers in ...   \n3  2021-06-04  NCT04912817  Pain Rehabilitation Virtual Reality (PR-VR) At...   \n4  2021-06-04  NCT04912804  Perceived Health After Hospitalization for COV...   \n\n                                         Brief title    Acronym  \\\n0  The Relationship Between COVID-19 Anxiety Leve...   COVID-19   \n1  Effect of Palmitoylethanolamide on Proinflamma...        NaN   \n2  Detection of SARS-CoV-2 RNA in Coughed Droplet...        NaN   \n3    PR-VR At-home Program During and After COVID-19        NaN   \n4  Perceived Health After Hospitalization for COV...  PRO-COVID   \n\n                                            Abstract Publication date  \\\n0  The aim was to determine the coronavirus anxie...       2020-06-20   \n1  This is a randomized controlled trial to exami...       2020-10-20   \n2  The purpose of this study is to learn how to b...       2021-04-14   \n3  Poorly controlled chronic pain in teens can im...       2021-09-01   \n4  There are currently no precise data available ...       2020-06-30   \n\n       Active years Phase                                      Conditions  \\\n0              2020   NaN  COVID-19; Emotional Eating; Metabolic Syndrome   \n1  2020; 2021; 2022   NaN                           COVID19; Inflammation   \n2        2021; 2022   NaN                                         Covid19   \n3        2021; 2022   NaN                                   Pain, Chronic   \n4        2020; 2021   NaN  COVID-19, Post-hospitalization, Disease Impact   \n\n   ... Gender            Registry Investigators/Contacts  \\\n0  ...    All  ClinicalTrials.gov    Dilek Küçük Alemdar   \n1  ...    All  ClinicalTrials.gov                    NaN   \n2  ...    All  ClinicalTrials.gov         Larry Anderson   \n3  ...    All  ClinicalTrials.gov       Jennifer Stinson   \n4  ...    All  ClinicalTrials.gov                    NaN   \n\n                              Sponsors/Collaborators  \\\n0                                    Ordu University   \n1                           Arizona State University   \n2  Emory University Hospital Midtown; Emory Unive...   \n3    Hospital for Sick Children; Stanford University   \n4   Centre Hospitalier Universitaire Dijon Bourgogne   \n\n                                            GRID IDs  \\\n0                                      grid.412366.4   \n1                                      grid.215654.1   \n2  grid.411929.6; grid.412162.2; grid.189967.8; g...   \n3                       grid.42327.30; grid.168010.e   \n4                                      grid.31151.37   \n\n                     Country of Sponsor/Collaborator  \\\n0                                             Turkey   \n1                                      United States   \n2  United States; United States; United States; U...   \n3                              Canada; United States   \n4                                             France   \n\n        Collaborating Funders Funder Country  \\\n0                         NaN            NaN   \n1                         NaN            NaN   \n2                         NaN            NaN   \n3  Hospital for Sick Children         Canada   \n4                         NaN            NaN   \n\n                                Source Linkout  \\\n0  https://clinicaltrials.gov/show/NCT04912934   \n1  https://clinicaltrials.gov/show/NCT04912921   \n2  https://clinicaltrials.gov/show/NCT04912895   \n3  https://clinicaltrials.gov/show/NCT04912817   \n4  https://clinicaltrials.gov/show/NCT04912804   \n\n                                      Dimensions URL  \n0  https://app.dimensions.ai/details/clinical_tri...  \n1  https://app.dimensions.ai/details/clinical_tri...  \n2  https://app.dimensions.ai/details/clinical_tri...  \n3  https://app.dimensions.ai/details/clinical_tri...  \n4  https://app.dimensions.ai/details/clinical_tri...  \n\n[5 rows x 21 columns]",
      "text/html": "<div>\n<style scoped>\n    .dataframe tbody tr th:only-of-type {\n        vertical-align: middle;\n    }\n\n    .dataframe tbody tr th {\n        vertical-align: top;\n    }\n\n    .dataframe thead th {\n        text-align: right;\n    }\n</style>\n<table border=\"1\" class=\"dataframe\">\n  <thead>\n    <tr style=\"text-align: right;\">\n      <th></th>\n      <th>Date added</th>\n      <th>Trial ID</th>\n      <th>Title</th>\n      <th>Brief title</th>\n      <th>Acronym</th>\n      <th>Abstract</th>\n      <th>Publication date</th>\n      <th>Active years</th>\n      <th>Phase</th>\n      <th>Conditions</th>\n      <th>...</th>\n      <th>Gender</th>\n      <th>Registry</th>\n      <th>Investigators/Contacts</th>\n      <th>Sponsors/Collaborators</th>\n      <th>GRID IDs</th>\n      <th>Country of Sponsor/Collaborator</th>\n      <th>Collaborating Funders</th>\n      <th>Funder Country</th>\n      <th>Source Linkout</th>\n      <th>Dimensions URL</th>\n    </tr>\n  </thead>\n  <tbody>\n    <tr>\n      <th>0</th>\n      <td>2021-06-04</td>\n      <td>NCT04912934</td>\n      <td>The Relationship Between Coronavirus Anxiety L...</td>\n      <td>The Relationship Between COVID-19 Anxiety Leve...</td>\n      <td>COVID-19</td>\n      <td>The aim was to determine the coronavirus anxie...</td>\n      <td>2020-06-20</td>\n      <td>2020</td>\n      <td>NaN</td>\n      <td>COVID-19; Emotional Eating; Metabolic Syndrome</td>\n      <td>...</td>\n      <td>All</td>\n      <td>ClinicalTrials.gov</td>\n      <td>Dilek Küçük Alemdar</td>\n      <td>Ordu University</td>\n      <td>grid.412366.4</td>\n      <td>Turkey</td>\n      <td>NaN</td>\n      <td>NaN</td>\n      <td>https://clinicaltrials.gov/show/NCT04912934</td>\n      <td>https://app.dimensions.ai/details/clinical_tri...</td>\n    </tr>\n    <tr>\n      <th>1</th>\n      <td>2021-06-04</td>\n      <td>NCT04912921</td>\n      <td>Effect of Palmitoylethanolamide on Proinflamma...</td>\n      <td>Effect of Palmitoylethanolamide on Proinflamma...</td>\n      <td>NaN</td>\n      <td>This is a randomized controlled trial to exami...</td>\n      <td>2020-10-20</td>\n      <td>2020; 2021; 2022</td>\n      <td>NaN</td>\n      <td>COVID19; Inflammation</td>\n      <td>...</td>\n      <td>All</td>\n      <td>ClinicalTrials.gov</td>\n      <td>NaN</td>\n      <td>Arizona State University</td>\n      <td>grid.215654.1</td>\n      <td>United States</td>\n      <td>NaN</td>\n      <td>NaN</td>\n      <td>https://clinicaltrials.gov/show/NCT04912921</td>\n      <td>https://app.dimensions.ai/details/clinical_tri...</td>\n    </tr>\n    <tr>\n      <th>2</th>\n      <td>2021-06-04</td>\n      <td>NCT04912895</td>\n      <td>Detection of SARS-CoV-2 RNA and Biomarkers in ...</td>\n      <td>Detection of SARS-CoV-2 RNA in Coughed Droplet...</td>\n      <td>NaN</td>\n      <td>The purpose of this study is to learn how to b...</td>\n      <td>2021-04-14</td>\n      <td>2021; 2022</td>\n      <td>NaN</td>\n      <td>Covid19</td>\n      <td>...</td>\n      <td>All</td>\n      <td>ClinicalTrials.gov</td>\n      <td>Larry Anderson</td>\n      <td>Emory University Hospital Midtown; Emory Unive...</td>\n      <td>grid.411929.6; grid.412162.2; grid.189967.8; g...</td>\n      <td>United States; United States; United States; U...</td>\n      <td>NaN</td>\n      <td>NaN</td>\n      <td>https://clinicaltrials.gov/show/NCT04912895</td>\n      <td>https://app.dimensions.ai/details/clinical_tri...</td>\n    </tr>\n    <tr>\n      <th>3</th>\n      <td>2021-06-04</td>\n      <td>NCT04912817</td>\n      <td>Pain Rehabilitation Virtual Reality (PR-VR) At...</td>\n      <td>PR-VR At-home Program During and After COVID-19</td>\n      <td>NaN</td>\n      <td>Poorly controlled chronic pain in teens can im...</td>\n      <td>2021-09-01</td>\n      <td>2021; 2022</td>\n      <td>NaN</td>\n      <td>Pain, Chronic</td>\n      <td>...</td>\n      <td>All</td>\n      <td>ClinicalTrials.gov</td>\n      <td>Jennifer Stinson</td>\n      <td>Hospital for Sick Children; Stanford University</td>\n      <td>grid.42327.30; grid.168010.e</td>\n      <td>Canada; United States</td>\n      <td>Hospital for Sick Children</td>\n      <td>Canada</td>\n      <td>https://clinicaltrials.gov/show/NCT04912817</td>\n      <td>https://app.dimensions.ai/details/clinical_tri...</td>\n    </tr>\n    <tr>\n      <th>4</th>\n      <td>2021-06-04</td>\n      <td>NCT04912804</td>\n      <td>Perceived Health After Hospitalization for COV...</td>\n      <td>Perceived Health After Hospitalization for COV...</td>\n      <td>PRO-COVID</td>\n      <td>There are currently no precise data available ...</td>\n      <td>2020-06-30</td>\n      <td>2020; 2021</td>\n      <td>NaN</td>\n      <td>COVID-19, Post-hospitalization, Disease Impact</td>\n      <td>...</td>\n      <td>All</td>\n      <td>ClinicalTrials.gov</td>\n      <td>NaN</td>\n      <td>Centre Hospitalier Universitaire Dijon Bourgogne</td>\n      <td>grid.31151.37</td>\n      <td>France</td>\n      <td>NaN</td>\n      <td>NaN</td>\n      <td>https://clinicaltrials.gov/show/NCT04912804</td>\n      <td>https://app.dimensions.ai/details/clinical_tri...</td>\n    </tr>\n  </tbody>\n</table>\n<p>5 rows × 21 columns</p>\n</div>"
     },
     "execution_count": 10,
     "metadata": {},
     "output_type": "execute_result"
    }
   ],
   "source": [
    "df.head()"
   ],
   "metadata": {
    "collapsed": false,
    "pycharm": {
     "name": "#%%\n"
    }
   }
  },
  {
   "cell_type": "code",
   "execution_count": 14,
   "outputs": [],
   "source": [
    "# remove all urls\n",
    "def remove_urls(text):\n",
    "    new_text = ' '.join(re.sub(\"(@[A-Za-z0-9]+)|([^0-9A-Za-z \\t])|(\\w+:\\/\\/\\S+)\",\" \",text).split())\n",
    "    return new_text\n",
    "\n",
    "def text_lowercase(text):\n",
    "    return text.lower()\n",
    "\n",
    "# remove numbers\n",
    "def remove_numbers(text):\n",
    "    result = re.sub(r'\\d+', '', text)\n",
    "    return result\n",
    "\n",
    "# remove punctuation\n",
    "def remove_punctuation(text):\n",
    "    translator = str.maketrans('', '', string.punctuation)\n",
    "    return text.translate(translator)\n",
    "\n",
    "# tokenize\n",
    "def tokenize(text):\n",
    "    text = word_tokenize(text)\n",
    "    return text\n",
    "\n",
    "# remove stopwords\n",
    "stop_words = set(stopwords.words('english'))\n",
    "def remove_stopwords(text):\n",
    "    text = [i for i in text if not i in stop_words]\n",
    "    return text\n",
    "\n",
    "# lemmatize Words\n",
    "lemmatizer = WordNetLemmatizer()\n",
    "def lemmatize(text):\n",
    "    text = [lemmatizer.lemmatize(token) for token in text]\n",
    "    return text"
   ],
   "metadata": {
    "collapsed": false,
    "pycharm": {
     "name": "#%%\n"
    }
   }
  },
  {
   "cell_type": "code",
   "execution_count": 11,
   "outputs": [
    {
     "data": {
      "text/plain": "'The aim was to determine the coronavirus anxiety levels and emotional eating status of cases with diagnosis of MetS according to diagnostic criteria published by the International Diabetic Federation (IDF) in 2005 and healthy individuals with similar BMI to MetS subjects.\\n\\nDetailed Description\\nThe aim was to determine the coronavirus anxiety levels and emotional eating status of cases with diagnosis of MetS according to diagnostic criteria published by the International Diabetic Federation (IDF) in 2005 and healthy individuals with similar BMI to MetS subjects. This study was completed with the descriptive, cross-sectional and relational screening model. The full sampling method was used in the study. The study was completed with 105 individuals with metabolic syndrome attending the diet clinic and 109 healthy individuals without MetS diagnosis also attending the diet clinic. Collection of data used anthropometric measurements and biochemical findings, blood pressure and a survey form, the Coronavirus Anxiety Scale (CAS) and Emotional Eating Scale (EES).'"
     },
     "execution_count": 11,
     "metadata": {},
     "output_type": "execute_result"
    }
   ],
   "source": [
    "df['Abstract'][0]"
   ],
   "metadata": {
    "collapsed": false,
    "pycharm": {
     "name": "#%%\n"
    }
   }
  },
  {
   "cell_type": "code",
   "execution_count": 12,
   "outputs": [],
   "source": [
    "def preprocessing(text):\n",
    "\n",
    "    text = text_lowercase(text)\n",
    "    text = remove_urls(text)\n",
    "    text = remove_numbers(text)\n",
    "    text = remove_punctuation(text)\n",
    "    text = tokenize(text)\n",
    "    text = remove_stopwords(text)\n",
    "    text = lemmatize(text)\n",
    "    text = ' '.join(text)\n",
    "    return text"
   ],
   "metadata": {
    "collapsed": false,
    "pycharm": {
     "name": "#%%\n"
    }
   }
  },
  {
   "cell_type": "code",
   "execution_count": 17,
   "outputs": [],
   "source": [
    "for i in range(df.shape[0]):\n",
    "    df['Abstract'][i]=preprocessing(str(df['Abstract'][i]))\n",
    "for text in df.Abstract:\n",
    "    text=text.replace('\\n',' ')"
   ],
   "metadata": {
    "collapsed": false,
    "pycharm": {
     "name": "#%%\n"
    }
   }
  },
  {
   "cell_type": "code",
   "execution_count": 16,
   "outputs": [
    {
     "name": "stderr",
     "output_type": "stream",
     "text": [
      "[nltk_data] Downloading package omw-1.4 to\n",
      "[nltk_data]     C:\\Users\\Bouch\\AppData\\Roaming\\nltk_data...\n",
      "[nltk_data]   Unzipping corpora\\omw-1.4.zip.\n"
     ]
    },
    {
     "data": {
      "text/plain": "True"
     },
     "execution_count": 16,
     "metadata": {},
     "output_type": "execute_result"
    }
   ],
   "source": [
    "nltk.download('omw-1.4')"
   ],
   "metadata": {
    "collapsed": false,
    "pycharm": {
     "name": "#%%\n"
    }
   }
  },
  {
   "cell_type": "code",
   "execution_count": 18,
   "outputs": [
    {
     "data": {
      "text/plain": "   Date added     Trial ID                                              Title  \\\n0  2021-06-04  NCT04912934  The Relationship Between Coronavirus Anxiety L...   \n1  2021-06-04  NCT04912921  Effect of Palmitoylethanolamide on Proinflamma...   \n2  2021-06-04  NCT04912895  Detection of SARS-CoV-2 RNA and Biomarkers in ...   \n3  2021-06-04  NCT04912817  Pain Rehabilitation Virtual Reality (PR-VR) At...   \n4  2021-06-04  NCT04912804  Perceived Health After Hospitalization for COV...   \n\n                                         Brief title    Acronym  \\\n0  The Relationship Between COVID-19 Anxiety Leve...   COVID-19   \n1  Effect of Palmitoylethanolamide on Proinflamma...        NaN   \n2  Detection of SARS-CoV-2 RNA in Coughed Droplet...        NaN   \n3    PR-VR At-home Program During and After COVID-19        NaN   \n4  Perceived Health After Hospitalization for COV...  PRO-COVID   \n\n                                            Abstract Publication date  \\\n0  aim determine coronavirus anxiety level emotio...       2020-06-20   \n1  randomized controlled trial examine effect foo...       2020-10-20   \n2  purpose study learn better detect infection un...       2021-04-14   \n3  poorly controlled chronic pain teen impact qua...       2021-09-01   \n4  currently precise data available impact covid ...       2020-06-30   \n\n       Active years Phase                                      Conditions  \\\n0              2020   NaN  COVID-19; Emotional Eating; Metabolic Syndrome   \n1  2020; 2021; 2022   NaN                           COVID19; Inflammation   \n2        2021; 2022   NaN                                         Covid19   \n3        2021; 2022   NaN                                   Pain, Chronic   \n4        2020; 2021   NaN  COVID-19, Post-hospitalization, Disease Impact   \n\n   ... Gender            Registry Investigators/Contacts  \\\n0  ...    All  ClinicalTrials.gov    Dilek Küçük Alemdar   \n1  ...    All  ClinicalTrials.gov                    NaN   \n2  ...    All  ClinicalTrials.gov         Larry Anderson   \n3  ...    All  ClinicalTrials.gov       Jennifer Stinson   \n4  ...    All  ClinicalTrials.gov                    NaN   \n\n                              Sponsors/Collaborators  \\\n0                                    Ordu University   \n1                           Arizona State University   \n2  Emory University Hospital Midtown; Emory Unive...   \n3    Hospital for Sick Children; Stanford University   \n4   Centre Hospitalier Universitaire Dijon Bourgogne   \n\n                                            GRID IDs  \\\n0                                      grid.412366.4   \n1                                      grid.215654.1   \n2  grid.411929.6; grid.412162.2; grid.189967.8; g...   \n3                       grid.42327.30; grid.168010.e   \n4                                      grid.31151.37   \n\n                     Country of Sponsor/Collaborator  \\\n0                                             Turkey   \n1                                      United States   \n2  United States; United States; United States; U...   \n3                              Canada; United States   \n4                                             France   \n\n        Collaborating Funders Funder Country  \\\n0                         NaN            NaN   \n1                         NaN            NaN   \n2                         NaN            NaN   \n3  Hospital for Sick Children         Canada   \n4                         NaN            NaN   \n\n                                Source Linkout  \\\n0  https://clinicaltrials.gov/show/NCT04912934   \n1  https://clinicaltrials.gov/show/NCT04912921   \n2  https://clinicaltrials.gov/show/NCT04912895   \n3  https://clinicaltrials.gov/show/NCT04912817   \n4  https://clinicaltrials.gov/show/NCT04912804   \n\n                                      Dimensions URL  \n0  https://app.dimensions.ai/details/clinical_tri...  \n1  https://app.dimensions.ai/details/clinical_tri...  \n2  https://app.dimensions.ai/details/clinical_tri...  \n3  https://app.dimensions.ai/details/clinical_tri...  \n4  https://app.dimensions.ai/details/clinical_tri...  \n\n[5 rows x 21 columns]",
      "text/html": "<div>\n<style scoped>\n    .dataframe tbody tr th:only-of-type {\n        vertical-align: middle;\n    }\n\n    .dataframe tbody tr th {\n        vertical-align: top;\n    }\n\n    .dataframe thead th {\n        text-align: right;\n    }\n</style>\n<table border=\"1\" class=\"dataframe\">\n  <thead>\n    <tr style=\"text-align: right;\">\n      <th></th>\n      <th>Date added</th>\n      <th>Trial ID</th>\n      <th>Title</th>\n      <th>Brief title</th>\n      <th>Acronym</th>\n      <th>Abstract</th>\n      <th>Publication date</th>\n      <th>Active years</th>\n      <th>Phase</th>\n      <th>Conditions</th>\n      <th>...</th>\n      <th>Gender</th>\n      <th>Registry</th>\n      <th>Investigators/Contacts</th>\n      <th>Sponsors/Collaborators</th>\n      <th>GRID IDs</th>\n      <th>Country of Sponsor/Collaborator</th>\n      <th>Collaborating Funders</th>\n      <th>Funder Country</th>\n      <th>Source Linkout</th>\n      <th>Dimensions URL</th>\n    </tr>\n  </thead>\n  <tbody>\n    <tr>\n      <th>0</th>\n      <td>2021-06-04</td>\n      <td>NCT04912934</td>\n      <td>The Relationship Between Coronavirus Anxiety L...</td>\n      <td>The Relationship Between COVID-19 Anxiety Leve...</td>\n      <td>COVID-19</td>\n      <td>aim determine coronavirus anxiety level emotio...</td>\n      <td>2020-06-20</td>\n      <td>2020</td>\n      <td>NaN</td>\n      <td>COVID-19; Emotional Eating; Metabolic Syndrome</td>\n      <td>...</td>\n      <td>All</td>\n      <td>ClinicalTrials.gov</td>\n      <td>Dilek Küçük Alemdar</td>\n      <td>Ordu University</td>\n      <td>grid.412366.4</td>\n      <td>Turkey</td>\n      <td>NaN</td>\n      <td>NaN</td>\n      <td>https://clinicaltrials.gov/show/NCT04912934</td>\n      <td>https://app.dimensions.ai/details/clinical_tri...</td>\n    </tr>\n    <tr>\n      <th>1</th>\n      <td>2021-06-04</td>\n      <td>NCT04912921</td>\n      <td>Effect of Palmitoylethanolamide on Proinflamma...</td>\n      <td>Effect of Palmitoylethanolamide on Proinflamma...</td>\n      <td>NaN</td>\n      <td>randomized controlled trial examine effect foo...</td>\n      <td>2020-10-20</td>\n      <td>2020; 2021; 2022</td>\n      <td>NaN</td>\n      <td>COVID19; Inflammation</td>\n      <td>...</td>\n      <td>All</td>\n      <td>ClinicalTrials.gov</td>\n      <td>NaN</td>\n      <td>Arizona State University</td>\n      <td>grid.215654.1</td>\n      <td>United States</td>\n      <td>NaN</td>\n      <td>NaN</td>\n      <td>https://clinicaltrials.gov/show/NCT04912921</td>\n      <td>https://app.dimensions.ai/details/clinical_tri...</td>\n    </tr>\n    <tr>\n      <th>2</th>\n      <td>2021-06-04</td>\n      <td>NCT04912895</td>\n      <td>Detection of SARS-CoV-2 RNA and Biomarkers in ...</td>\n      <td>Detection of SARS-CoV-2 RNA in Coughed Droplet...</td>\n      <td>NaN</td>\n      <td>purpose study learn better detect infection un...</td>\n      <td>2021-04-14</td>\n      <td>2021; 2022</td>\n      <td>NaN</td>\n      <td>Covid19</td>\n      <td>...</td>\n      <td>All</td>\n      <td>ClinicalTrials.gov</td>\n      <td>Larry Anderson</td>\n      <td>Emory University Hospital Midtown; Emory Unive...</td>\n      <td>grid.411929.6; grid.412162.2; grid.189967.8; g...</td>\n      <td>United States; United States; United States; U...</td>\n      <td>NaN</td>\n      <td>NaN</td>\n      <td>https://clinicaltrials.gov/show/NCT04912895</td>\n      <td>https://app.dimensions.ai/details/clinical_tri...</td>\n    </tr>\n    <tr>\n      <th>3</th>\n      <td>2021-06-04</td>\n      <td>NCT04912817</td>\n      <td>Pain Rehabilitation Virtual Reality (PR-VR) At...</td>\n      <td>PR-VR At-home Program During and After COVID-19</td>\n      <td>NaN</td>\n      <td>poorly controlled chronic pain teen impact qua...</td>\n      <td>2021-09-01</td>\n      <td>2021; 2022</td>\n      <td>NaN</td>\n      <td>Pain, Chronic</td>\n      <td>...</td>\n      <td>All</td>\n      <td>ClinicalTrials.gov</td>\n      <td>Jennifer Stinson</td>\n      <td>Hospital for Sick Children; Stanford University</td>\n      <td>grid.42327.30; grid.168010.e</td>\n      <td>Canada; United States</td>\n      <td>Hospital for Sick Children</td>\n      <td>Canada</td>\n      <td>https://clinicaltrials.gov/show/NCT04912817</td>\n      <td>https://app.dimensions.ai/details/clinical_tri...</td>\n    </tr>\n    <tr>\n      <th>4</th>\n      <td>2021-06-04</td>\n      <td>NCT04912804</td>\n      <td>Perceived Health After Hospitalization for COV...</td>\n      <td>Perceived Health After Hospitalization for COV...</td>\n      <td>PRO-COVID</td>\n      <td>currently precise data available impact covid ...</td>\n      <td>2020-06-30</td>\n      <td>2020; 2021</td>\n      <td>NaN</td>\n      <td>COVID-19, Post-hospitalization, Disease Impact</td>\n      <td>...</td>\n      <td>All</td>\n      <td>ClinicalTrials.gov</td>\n      <td>NaN</td>\n      <td>Centre Hospitalier Universitaire Dijon Bourgogne</td>\n      <td>grid.31151.37</td>\n      <td>France</td>\n      <td>NaN</td>\n      <td>NaN</td>\n      <td>https://clinicaltrials.gov/show/NCT04912804</td>\n      <td>https://app.dimensions.ai/details/clinical_tri...</td>\n    </tr>\n  </tbody>\n</table>\n<p>5 rows × 21 columns</p>\n</div>"
     },
     "execution_count": 18,
     "metadata": {},
     "output_type": "execute_result"
    }
   ],
   "source": [
    "df.head()"
   ],
   "metadata": {
    "collapsed": false,
    "pycharm": {
     "name": "#%%\n"
    }
   }
  },
  {
   "cell_type": "code",
   "execution_count": 19,
   "outputs": [
    {
     "data": {
      "text/plain": "'aim determine coronavirus anxiety level emotional eating status case diagnosis mets according diagnostic criterion published international diabetic federation idf healthy individual similar bmi mets subject detailed description aim determine coronavirus anxiety level emotional eating status case diagnosis mets according diagnostic criterion published international diabetic federation idf healthy individual similar bmi mets subject study completed descriptive cross sectional relational screening model full sampling method used study study completed individual metabolic syndrome attending diet clinic healthy individual without mets diagnosis also attending diet clinic collection data used anthropometric measurement biochemical finding blood pressure survey form coronavirus anxiety scale ca emotional eating scale ee'"
     },
     "execution_count": 19,
     "metadata": {},
     "output_type": "execute_result"
    }
   ],
   "source": [
    "df['Abstract'][0]"
   ],
   "metadata": {
    "collapsed": false,
    "pycharm": {
     "name": "#%%\n"
    }
   }
  },
  {
   "cell_type": "code",
   "execution_count": 20,
   "outputs": [],
   "source": [
    "x=[word_tokenize(word) for word in df.Abstract ]"
   ],
   "metadata": {
    "collapsed": false,
    "pycharm": {
     "name": "#%%\n"
    }
   }
  },
  {
   "cell_type": "code",
   "execution_count": null,
   "outputs": [],
   "source": [],
   "metadata": {
    "collapsed": false,
    "pycharm": {
     "name": "#%%\n"
    }
   }
  }
 ],
 "metadata": {
  "kernelspec": {
   "display_name": "Python 3",
   "language": "python",
   "name": "python3"
  },
  "language_info": {
   "codemirror_mode": {
    "name": "ipython",
    "version": 2
   },
   "file_extension": ".py",
   "mimetype": "text/x-python",
   "name": "python",
   "nbconvert_exporter": "python",
   "pygments_lexer": "ipython2",
   "version": "2.7.6"
  }
 },
 "nbformat": 4,
 "nbformat_minor": 0
}